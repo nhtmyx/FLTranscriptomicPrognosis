{
 "cells": [
  {
   "cell_type": "markdown",
   "metadata": {},
   "source": [
    "*This analysis is performed for OS event in batch 1 as an example*"
   ]
  },
  {
   "cell_type": "code",
   "execution_count": null,
   "metadata": {},
   "outputs": [],
   "source": [
    "library(tidyverse)\n",
    "library(pheatmap)"
   ]
  },
  {
   "cell_type": "markdown",
   "metadata": {},
   "source": [
    "1. Import necessary files"
   ]
  },
  {
   "cell_type": "code",
   "execution_count": null,
   "metadata": {},
   "outputs": [],
   "source": [
    "# import gene expression and clinical data of batch 1\n",
    "ori_data<-read.csv(\"/localhome/bs22tmhn/[ResearchProject]/Batch1/survData_batch1.csv\",row.names = 1)\n",
    "# modify EnsemblID format in ori_data\n",
    "colnames(ori_data)<-sub(\"\\\\..*\", \"\",colnames(ori_data))\n",
    "\n",
    "# import genes information (EnsembleID, gene biotype, gene name)\n",
    "genes<-read.csv(\"/localhome/bs22tmhn/[ResearchProject]/Batch1/genes.csv\",row.names = 1)"
   ]
  },
  {
   "cell_type": "markdown",
   "metadata": {},
   "source": [
    "2. Select 5000 random protein coding genes"
   ]
  },
  {
   "cell_type": "code",
   "execution_count": null,
   "metadata": {},
   "outputs": [],
   "source": [
    "pcg<-genes[genes$gene_biotype == \"protein_coding\", \"ensembl_gene_id\"]\n",
    "random5000genes <- sample(pcg, size = 5000, replace = FALSE)"
   ]
  },
  {
   "cell_type": "code",
   "execution_count": null,
   "metadata": {},
   "outputs": [],
   "source": [
    "ori_data<-ori_data[,colnames(ori_data) %in% random5000genes]\n",
    "ori_data[1:5,1:5]"
   ]
  },
  {
   "cell_type": "markdown",
   "metadata": {},
   "source": [
    "3. Perform hierarchical clustering"
   ]
  },
  {
   "cell_type": "markdown",
   "metadata": {},
   "source": [
    "- Using unscaled (raw) data"
   ]
  },
  {
   "cell_type": "code",
   "execution_count": null,
   "metadata": {},
   "outputs": [],
   "source": [
    "# convert ori_data into a matrix with genes as columns, samples as rows\n",
    "hclust <- as.matrix(ori_data)\n",
    "\n",
    "# plot a clustering heatmap\n",
    "pheatmap(t(hclust),show_rownames=FALSE,show_colnames=FALSE, scale = \"none\",clustering_method=\"average\")"
   ]
  },
  {
   "cell_type": "markdown",
   "metadata": {},
   "source": [
    "- Using data scaled by genes"
   ]
  },
  {
   "cell_type": "code",
   "execution_count": null,
   "metadata": {},
   "outputs": [],
   "source": [
    "# scale the data by columns (genes)\n",
    "hclust_scaled<-scale(hclust)\n",
    "\n",
    "# plot the clustering heatmap\n",
    "pheatmap(t(hclust_scaled),show_rownames=FALSE,show_colnames=FALSE, scale = \"none\",clustering_method=\"average\")"
   ]
  }
 ],
 "metadata": {
  "kernelspec": {
   "display_name": "R [conda env:R-base]",
   "language": "R",
   "name": "conda-env-R-base-r"
  },
  "language_info": {
   "codemirror_mode": "r",
   "file_extension": ".r",
   "mimetype": "text/x-r-source",
   "name": "R",
   "pygments_lexer": "r",
   "version": "3.6.1"
  }
 },
 "nbformat": 4,
 "nbformat_minor": 4
}
