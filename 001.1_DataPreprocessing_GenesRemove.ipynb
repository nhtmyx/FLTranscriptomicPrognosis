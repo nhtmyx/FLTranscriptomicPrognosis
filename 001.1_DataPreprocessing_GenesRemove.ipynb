{
 "cells": [
  {
   "cell_type": "markdown",
   "metadata": {},
   "source": [
    "1. Import the file containing clinical data and gene expression counts (example in batch 1)."
   ]
  },
  {
   "cell_type": "code",
   "execution_count": null,
   "metadata": {},
   "outputs": [],
   "source": [
    "ori_data<-read.csv(\"/localhome/bs22tmhn/[ResearchProject]/Batch1/Readcounts_mergedwith_clinicaldata/FL_RNASeq_vst_transformed_readcounts_clinicaldata_merged.csv\")\n",
    "\n",
    "#transpose samples to rows and genes + clinical features to columns\n",
    "ori_data<- t(ori_data)\n",
    "\n",
    "# set the column names as the values in the first row\n",
    "colnames(ori_data) <- ori_data[1, ]\n",
    "\n",
    "# remove the first row\n",
    "ori_data <- ori_data[-1, ]\n",
    "\n",
    "# change into a data frame\n",
    "ori_data<-as.data.frame(ori_data)\n",
    "\n",
    "# remove cases with NA clinical data\n",
    "ori_data<-ori_data[!is.na(ori_data$Donor_ID),]"
   ]
  },
  {
   "cell_type": "markdown",
   "metadata": {},
   "source": [
    "2. Create an object containing only genes as columns and samples as rows"
   ]
  },
  {
   "cell_type": "code",
   "execution_count": null,
   "metadata": {},
   "outputs": [],
   "source": [
    "#create new df containing only genes as columns and samples as rows\n",
    "readcounts<-ori_data[, 36:ncol(ori_data)]\n",
    "nrow(readcounts)\n",
    "ncol(readcounts)"
   ]
  },
  {
   "cell_type": "markdown",
   "metadata": {},
   "source": [
    "3. Plot the read count distribution"
   ]
  },
  {
   "cell_type": "code",
   "execution_count": null,
   "metadata": {},
   "outputs": [],
   "source": [
    "values <- unlist(readcounts)\n",
    "values<-as.numeric(values)\n",
    "\n",
    "#Figure A1\n",
    "hist(values,breaks=100)"
   ]
  },
  {
   "cell_type": "markdown",
   "metadata": {},
   "source": [
    "Select threshold=3.2"
   ]
  },
  {
   "cell_type": "markdown",
   "metadata": {},
   "source": [
    "4. For each gene, count the number of cases with readcounts < threshold"
   ]
  },
  {
   "cell_type": "code",
   "execution_count": null,
   "metadata": {},
   "outputs": [],
   "source": [
    "readcounts[,] <- apply(readcounts[,], 2, as.numeric)    #convert values from character to numeric\n",
    "\n",
    "readcounts_t<-data.frame(geneID=colnames(readcounts))   #create transposed readcounts dataframe (genes as rows)\n",
    "readcounts_t$caseslessthan3.2<- colSums(readcounts<3.2)\n",
    "readcounts_t$lessthan3.2_percentage<-readcounts_t$caseslessthan3.2/nrow(readcounts)"
   ]
  },
  {
   "cell_type": "markdown",
   "metadata": {},
   "source": [
    "5. Remove genes with more than 60% of cases having read counts <3.2"
   ]
  },
  {
   "cell_type": "code",
   "execution_count": null,
   "metadata": {},
   "outputs": [],
   "source": [
    "removed<-readcounts_t$geneID[readcounts_t$lessthan3.2_percentage>0.6]\n",
    "\n",
    "ori_data<-ori_data[,!(colnames(ori_data) %in% removed)]"
   ]
  },
  {
   "cell_type": "markdown",
   "metadata": {},
   "source": [
    "6. Export this data set"
   ]
  },
  {
   "cell_type": "code",
   "execution_count": null,
   "metadata": {},
   "outputs": [],
   "source": [
    "write.csv(ori_data,\"survData_batch1.csv\",row.names = TRUE)"
   ]
  }
 ],
 "metadata": {
  "kernelspec": {
   "display_name": "R [conda env:R-base]",
   "language": "R",
   "name": "conda-env-R-base-r"
  },
  "language_info": {
   "codemirror_mode": "r",
   "file_extension": ".r",
   "mimetype": "text/x-r-source",
   "name": "R",
   "pygments_lexer": "r",
   "version": "3.6.1"
  }
 },
 "nbformat": 4,
 "nbformat_minor": 4
}
