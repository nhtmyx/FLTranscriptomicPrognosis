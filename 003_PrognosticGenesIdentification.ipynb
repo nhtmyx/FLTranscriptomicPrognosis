{
 "cells": [
  {
   "cell_type": "markdown",
   "metadata": {},
   "source": [
    "*For demonstration, data from batch 1 and OS are used*"
   ]
  },
  {
   "cell_type": "code",
   "execution_count": null,
   "metadata": {},
   "outputs": [],
   "source": [
    "if (!requireNamespace('BiocManager', quietly = TRUE))\n",
    "        install.packages('BiocManager')\n",
    "\n",
    "BiocManager::install('RegParallel')\n",
    "\n",
    "library(RegParallel)\n",
    "library(survival)"
   ]
  },
  {
   "cell_type": "code",
   "execution_count": null,
   "metadata": {},
   "outputs": [],
   "source": [
    "# import the gene expression dataset\n",
    "ori_data<-read.csv(\"/localhome/bs22tmhn/[ResearchProject]/Batch1/survData_batch1.csv\",row.names = 1)\n",
    "\n",
    "# import the clinical dataset\n",
    "clin<-read.csv(\"/localhome/bs22tmhn/[ResearchProject]/ClinData_batch1.csv\",row.names = 1)"
   ]
  },
  {
   "cell_type": "code",
   "execution_count": null,
   "metadata": {},
   "outputs": [],
   "source": [
    "# import the file of gene information (containing Ensembl ID, gene name, gene biotype)\n",
    "gene_info<-read.csv(\"/localhome/bs22tmhn/[ResearchProject]/Batch1/genes.csv\")"
   ]
  },
  {
   "cell_type": "markdown",
   "metadata": {},
   "source": [
    "1. Univariate Cox PH analysis using continuous gene expression values"
   ]
  },
  {
   "cell_type": "code",
   "execution_count": null,
   "metadata": {},
   "outputs": [],
   "source": [
    "# create a new data frame combining gene expression data set and OS_time and status\n",
    "# (gene expression data from ori_data start at column number 35)\n",
    "survana_OS<-cbind(ori_data[!is.na(ori_data$status),35:ncol(ori_data)],clin[!is.na(ori_data$status),c(\"OS_time\",\"status\")])"
   ]
  },
  {
   "cell_type": "code",
   "execution_count": null,
   "metadata": {},
   "outputs": [],
   "source": [
    "# run the analysis\n",
    "res_OS <- RegParallel(\n",
    "    data = survana_OS,\n",
    "    formula = 'Surv(OS_time, status) ~ [*]',\n",
    "    FUN = function(formula, data)\n",
    "      coxph(formula = formula,\n",
    "        data = data,\n",
    "        ties = 'breslow',\n",
    "        singular.ok = TRUE),\n",
    "    FUNtype = 'coxph',\n",
    "    variables = colnames(survana_OS)[1:(ncol(survana_OS)-2)],\n",
    "    blocksize = 2000,\n",
    "    p.adjust = \"BH\")"
   ]
  },
  {
   "cell_type": "code",
   "execution_count": null,
   "metadata": {},
   "outputs": [],
   "source": [
    "# modify EnsemblID from res_OS to match gene_info's EnsemblID format\n",
    "res_OS$Variable<-sub(\"\\\\..*\", \"\", res_OS$Variable)\n",
    "\n",
    "# match gene name and biotype from gene_info to EnsemblID from res_OS\n",
    "res_OS_merged <- merge(res_OS, gene_info, by.x = \"Variable\", by.y = \"ensembl_gene_id\", all.x = TRUE)\n",
    "# create new variable from res_OS_merged indicating the magnitude of the effect\n",
    "res_OS_merged$beta_sig<-abs(res_OS_merged$Beta)"
   ]
  },
  {
   "cell_type": "code",
   "execution_count": null,
   "metadata": {},
   "outputs": [],
   "source": [
    "# export the result\n",
    "write.csv(res_OS_merged,\"/localhome/bs22tmhn/[ResearchProject]/batch1_OS_coxcont.csv\",row.names = TRUE)"
   ]
  },
  {
   "cell_type": "markdown",
   "metadata": {},
   "source": [
    "2. Univariate Cox PH analysis + log-rank test using dichotomised gene expression levels"
   ]
  },
  {
   "cell_type": "code",
   "execution_count": null,
   "metadata": {},
   "outputs": [],
   "source": [
    "# create a data frame containing only gene expression values\n",
    "readcounts=ori_data[,35:ncol(ori_data)]\n",
    "\n",
    "# create a data frame with the same number of rows and columns\n",
    "surv_50<-data.frame(matrix(nrow = nrow(readcounts), ncol = ncol(readcounts)))\n",
    "\n",
    "# Set column names\n",
    "colnames(surv_50) <- colnames(readcounts)\n",
    "rownames(surv_50)<- rownames(readcounts)\n",
    "\n",
    "# split the data set into 2 groups using median as threshold\n",
    "med<-apply(readcounts[,], 2, median)\n",
    "# group 1 below median, group 2 above median\n",
    "for (i in 1:ncol(surv_50)) {\n",
    "  surv_50[, i] <- ifelse(readcounts[, i] <= med[i], 1, 2)\n",
    "}\n",
    "\n",
    "# combine dichotomised gene expression with OS_time and status\n",
    "surv_50<-cbind(surv_50,clin[,c(\"OS_time\",\"status\")])"
   ]
  },
  {
   "cell_type": "code",
   "execution_count": null,
   "metadata": {},
   "outputs": [],
   "source": [
    "#perform Cox PH\n",
    "res_cox50 <- RegParallel(\n",
    "    data = surv_50,\n",
    "    formula = 'Surv(OS_time, status) ~ [*]',\n",
    "    FUN = function(formula, data)\n",
    "      coxph(formula = formula,\n",
    "        data = data,\n",
    "        ties = 'breslow',\n",
    "        singular.ok = TRUE),\n",
    "    FUNtype = 'coxph',\n",
    "    variables = colnames(surv_50)[1:(ncol(surv_50)-2)],\n",
    "    blocksize = 2000,\n",
    "    p.adjust = \"BH\")"
   ]
  },
  {
   "cell_type": "code",
   "execution_count": null,
   "metadata": {},
   "outputs": [],
   "source": [
    "# modify EnsemblID from res_OS to match gene_info's EnsemblID format\n",
    "res_cox50$Variable<-sub(\"\\\\..*\", \"\",res_cox50$Variable)\n",
    "\n",
    "# match gene name and biotype from gene_info to EnsemblID from res_cox50 \n",
    "res_cox50_merged <- merge(res_cox50, gene_info, by.x = \"Variable\", by.y = \"ensembl_gene_id\", all.x = TRUE)\n",
    "# create new variable from res_cox50_merged indicating the magnitude of the effect\n",
    "res_cox50_merged$beta_sig<-abs(res_cox50_merged$Beta)"
   ]
  },
  {
   "cell_type": "code",
   "execution_count": null,
   "metadata": {},
   "outputs": [],
   "source": [
    "# export the result\n",
    "write.csv(res_cox50_merged,\"/localhome/bs22tmhn/[ResearchProject]/cox50_batch1_OS.csv\",row.names = TRUE)"
   ]
  },
  {
   "cell_type": "markdown",
   "metadata": {},
   "source": [
    "3. Overlap significant genes across log rank test, coxph50, coxph cont"
   ]
  },
  {
   "cell_type": "code",
   "execution_count": null,
   "metadata": {},
   "outputs": [],
   "source": [
    "#filter genes with p<0.05 in cox50\n",
    "cox50<-res_cox50_merged[res_cox50_merged$LRT<0.05,]\n",
    "\n",
    "#filter genes with p<0.05 in coxcont\n",
    "coxcont<-res_OS_merged[res_OS_merged$LRT<0.05,]\n",
    "\n",
    "#filter genes with Logrank <0.05 in cox50\n",
    "logrank<-res_cox50_merged[res_cox50_merged$LogRank<0.05,]\n",
    "\n",
    "# overlap the EnsemblID from 3 data frames above\n",
    "common_genes <- intersect(cox50$Variable, intersect(coxcont$Variable, logrank$Variable))\n",
    "\n",
    "cox50_filtered<-cox50[cox50$Variable %in% common_genes,]\n",
    "coxcont_filtered<-coxcont[coxcont$Variable %in% common_genes,]\n",
    "#merge the 2 data frames\n",
    "overlap<-merge(cox50_filtered, coxcont_filtered, by = \"Variable\", suffixes = c(\"_cox50\", \"_coxcont\"), all.x = TRUE)\n",
    "\n",
    "# export the result table\n",
    "write.csv(overlap,\"/localhome/bs22tmhn/[ResearchProject]/overlap_batch1_OS.csv\",row.names = TRUE)"
   ]
  },
  {
   "cell_type": "markdown",
   "metadata": {},
   "source": [
    "4. Perform candidate genes selection"
   ]
  },
  {
   "cell_type": "markdown",
   "metadata": {},
   "source": [
    "- For all genes"
   ]
  },
  {
   "cell_type": "code",
   "execution_count": null,
   "metadata": {},
   "outputs": [],
   "source": [
    "# ranked by abs_beta_cox50\n",
    "top100_cox50 <- overlap[order(overlap$abs_beta_cox50, decreasing = TRUE)[1:100], ]\n",
    "# ranked by abs_beta_coxcont\n",
    "top100_coxcont<-overlap[order(overlap$abs_beta_coxcont, decreasing = TRUE)[1:100], ]\n",
    "# ranked by LogRank_cox50\n",
    "top100_logrank<-overlap[order(overlap$LogRank_cox50, decreasing = FALSE)[1:100], ]\n",
    "\n",
    "# select the overlapping genes from the above 3 lists\n",
    "candidate_all_genes<-intersect(top100_cox50$Variable,intersect(top100_coxcont$Variable, top100_logrank$Variable))"
   ]
  },
  {
   "cell_type": "markdown",
   "metadata": {},
   "source": [
    "- For protein-coding genes (pcg) only"
   ]
  },
  {
   "cell_type": "code",
   "execution_count": null,
   "metadata": {},
   "outputs": [],
   "source": [
    "#retrieve top 100 protein coding genes \n",
    "overlap_pcg <- overlap[overlap$gene_biotype_cox50==\"protein_coding\",]\n",
    "\n",
    "# ranked by abs_beta_cox50\n",
    "top100_cox50_pcg <- overlap_pcg[order(overlap_pcg$abs_beta_cox50, decreasing = TRUE)[1:100], ]\n",
    "# ranked by abs_beta_coxcont\n",
    "top100_coxcont_pcg <- overlap_pcg[order(overlap_pcg$abs_beta_coxcont, decreasing = TRUE)[1:100], ]\n",
    "# ranked by LogRank_cox50\n",
    "top100_logrank_pcg <- overlap_pcg[order(overlap_pcg$LogRank_cox50, decreasing = FALSE)[1:100], ]\n",
    "\n",
    "# select the overlapping genes from the above 3 lists\n",
    "candidate_pc_genes<-intersect(top100_cox50_pcg$Variable,intersect(top100_coxcont_pcg$Variable, top100_logrank_pcg$Variable))"
   ]
  },
  {
   "cell_type": "code",
   "execution_count": null,
   "metadata": {},
   "outputs": [],
   "source": [
    "# combine the lists of all genes + protein-coding genes\n",
    "candidate_genes<-union(candidate_all_genes,candidate_pc_genes)\n",
    "\n",
    "# retrieve data of the candidate_genes from the \"overlap\" dataframe\n",
    "overlap100<- overlap[overlap$Variable %in% candidate_genes,]\n",
    "\n",
    "#export the candidate genes\n",
    "write.csv(overlap100,'/localhome/bs22tmhn/[ResearchProject]/candidate_genes_OS.csv',row.names=TRUE)"
   ]
  }
 ],
 "metadata": {
  "kernelspec": {
   "display_name": "R [conda env:R-base]",
   "language": "R",
   "name": "conda-env-R-base-r"
  },
  "language_info": {
   "codemirror_mode": "r",
   "file_extension": ".r",
   "mimetype": "text/x-r-source",
   "name": "R",
   "pygments_lexer": "r",
   "version": "3.6.1"
  }
 },
 "nbformat": 4,
 "nbformat_minor": 4
}
