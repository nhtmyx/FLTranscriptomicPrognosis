{
 "cells": [
  {
   "cell_type": "markdown",
   "metadata": {},
   "source": [
    "*For demonstration, this analysis is performed for OS event*"
   ]
  },
  {
   "cell_type": "code",
   "execution_count": null,
   "metadata": {},
   "outputs": [],
   "source": [
    "library(topGO)"
   ]
  },
  {
   "cell_type": "markdown",
   "metadata": {},
   "source": [
    "1. Import necessary files"
   ]
  },
  {
   "cell_type": "code",
   "execution_count": null,
   "metadata": {},
   "outputs": [],
   "source": [
    "# import gene ontology list\n",
    "geneID2GO <- readRDS(\"/localhome/bs22tmhn/[HTS]data/geneID2GO.rds\")\n",
    "\n",
    "# import OS cox cont results\n",
    "result_OS<-read.csv(\"/localhome/bs22tmhn/[ResearchProject]/cox_cont_batch1.csv\",row.names = 1)\n",
    "#remove duplicates\n",
    "result_OS<-result_OS[!duplicated(result_OS$Variable),]\n",
    "\n",
    "#import selected candidate genes\n",
    "candidate_genes<-read.csv(\"/localhome/bs22tmhn/[ResearchProject]/candidate_genes_OS.csv\",row.names = 1)"
   ]
  },
  {
   "cell_type": "markdown",
   "metadata": {},
   "source": [
    "2. Perform GO analysis"
   ]
  },
  {
   "cell_type": "code",
   "execution_count": null,
   "metadata": {},
   "outputs": [],
   "source": [
    "# create new variable ỉn result_OS identifying if a gene is a selected candidate gene\n",
    "result_OS$candidate<- factor(as.integer(result_OS$Variable %in% candidate_genes))\n",
    "\n",
    "# create object allGenes containing all gene names and whether they are candidate or not\n",
    "allGenes<-result_OS$candidate\n",
    "names(allGenes)<-result_OS$Variable\n",
    "\n",
    "# build the topGOdata object\n",
    "GOdata <- new(\"topGOdata\",\n",
    "description = \"GO analysis of result_OS\",\n",
    "ontology = \"BP\",\n",
    "allGenes = allGenes,\n",
    "annot=annFUN.gene2GO,\n",
    "gene2GO=geneID2GO)\n",
    "\n",
    "#Fisher's exact test function\n",
    "test.stat<-new('classicCount',testStatistic=GOFisherTest, name='Fisher test')\n",
    "resultFisher<-getSigGroups(GOdata,test.stat)\n",
    "\n",
    "# create top GO table\n",
    "allRes<-GenTable(GOdata,classic=resultFisher, orderBy='classic',ranksOf='classic',topNodes=20)\n",
    "\n",
    "# import the table\n",
    "write.csv(allRes,'/localhome/bs22tmhn/[ResearchProject]/topGO_OS_Fisher.csv')"
   ]
  }
 ],
 "metadata": {
  "kernelspec": {
   "display_name": "R [conda env:R-base]",
   "language": "R",
   "name": "conda-env-R-base-r"
  },
  "language_info": {
   "codemirror_mode": "r",
   "file_extension": ".r",
   "mimetype": "text/x-r-source",
   "name": "R",
   "pygments_lexer": "r",
   "version": "3.6.1"
  }
 },
 "nbformat": 4,
 "nbformat_minor": 4
}
