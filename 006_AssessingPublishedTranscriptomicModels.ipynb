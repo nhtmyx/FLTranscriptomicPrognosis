{
 "cells": [
  {
   "cell_type": "markdown",
   "metadata": {},
   "source": [
    "These analyses are performed for OS event as an example"
   ]
  },
  {
   "cell_type": "code",
   "execution_count": null,
   "metadata": {},
   "outputs": [],
   "source": [
    "library(survival)\n",
    "library(ggplot2)"
   ]
  },
  {
   "cell_type": "markdown",
   "metadata": {},
   "source": [
    "1. Import data (e.g. of batch 1)"
   ]
  },
  {
   "cell_type": "code",
   "execution_count": null,
   "metadata": {},
   "outputs": [],
   "source": [
    "ori_data<-read.csv(\"/localhome/bs22tmhn/[ResearchProject]/Batch1/survData_batch1.csv\",row.names = 1)\n",
    "\n",
    "# modify the EnsemblID of ori_data\n",
    "colnames(ori_data)<-sub(\"\\\\..*\", \"\",colnames(ori_data))"
   ]
  },
  {
   "cell_type": "markdown",
   "metadata": {},
   "source": [
    "2. 23-gene signature"
   ]
  },
  {
   "cell_type": "markdown",
   "metadata": {},
   "source": [
    "- analyse the signature score"
   ]
  },
  {
   "cell_type": "code",
   "execution_count": null,
   "metadata": {},
   "outputs": [],
   "source": [
    "# Import 23-gene coefficients\n",
    "coef<-read.csv(\"/localhome/bs22tmhn/[ResearchProject]/23sig.csv\")"
   ]
  },
  {
   "cell_type": "code",
   "execution_count": null,
   "metadata": {},
   "outputs": [],
   "source": [
    "variables<-c(coef$ID,\"OS_time\",\"status\",\"NHLDeath\")\n",
    "# retrieve the above variables from ori_data dataframe\n",
    "OS<-ori_data[,variables]\n",
    "\n",
    "OS<-OS[!is.na(OS$status),]     #remove samples without status information (applicable only to OS and PFS)\n",
    "OS$status[OS$NHLDeath==2]<-0   # convert status=1 of cases with NHLDeath=2 (non-NHLDeath) to status=0\n",
    "\n",
    "# create a column in OS for the 23 sig score\n",
    "OS$score<-as.matrix(OS[,1:23]) %*% as.matrix(coef[,3])\n",
    "OS$score<-OS$score[,1]"
   ]
  },
  {
   "cell_type": "code",
   "execution_count": null,
   "metadata": {},
   "outputs": [],
   "source": [
    "# test for survival using dichotomised signature score split at median\n",
    "# split the data set into 2 groups using median as threshold\n",
    "med<-median(OS$score)\n",
    "# Group 1 below median, Group 2 above median\n",
    "OS$median <- ifelse(OS$score <= med, 1, 2)\n",
    "# perform Cox PH regression\n",
    "sig23_50<-coxph(Surv(OS_time, status) ~ median, data = OS)\n",
    "\n",
    "\n",
    "# test for survival using dichotomised signature score split at the 25th percentile\n",
    "# split the data set into 2 groups using q25th as threshold\n",
    "q25th<- quantile(OS$score, probs = 0.25)\n",
    "# Group 1 below median, Group 2 above q25th\n",
    "OS$q25th <- ifelse(OS$score <= q25th, 1, 2)\n",
    "# perform Cox PH regression\n",
    "sig23_25<-coxph(Surv(OS_time, status) ~ q25th, data = OS)\n",
    "\n",
    "\n",
    "# test for survival using dichotomised signature score split at the 75th percentile\n",
    "# split the data set into 2 groups using q75th as threshold\n",
    "q75th<- quantile(OS$score, probs = 0.75)\n",
    "# Group 1 below median, Group 2 above q75th\n",
    "OS$q75th <- ifelse(OS$score <= q75th, 1, 2)\n",
    "# perform Cox PH regression\n",
    "sig23_75<-coxph(Surv(OS_time, status) ~ q75th, data = OS)"
   ]
  },
  {
   "cell_type": "markdown",
   "metadata": {},
   "source": [
    "- analyse each of the 23 genes separately"
   ]
  },
  {
   "cell_type": "code",
   "execution_count": null,
   "metadata": {},
   "outputs": [],
   "source": [
    "# the results were taken from the univariate Cox PH analysis using continuous gene expression values\n",
    "OS_cont<-read.csv(\"/localhome/bs22tmhn/[ResearchProject]/cox_cont_batch1.csv\")\n",
    "OS<-OS_cont[OS_cont$Variable %in% coef$ID,]\n",
    "\n",
    "#create forest plot\n",
    "ggplot(data=OS, aes(y=1:23, x=HR,\n",
    "                             xmin=HRlower, \n",
    "                             xmax=HRupper)) +\n",
    "  \n",
    "  geom_errorbarh(height=.1) +\n",
    "  scale_y_continuous(labels=OS$external_gene_name, breaks=seq(1, 23, by=1))+\n",
    "  geom_point( color= \"red\", pch= 18, size=3) +\n",
    "  labs(title='23 genes', x='Hazard ratio', y = 'Genes')+\n",
    "  geom_vline(xintercept=1, color='red', linetype='dashed', alpha=.8)+\n",
    "  theme(panel.grid = element_blank(),panel.background = element_blank(),axis.line = element_line(colour = \"black\"))+\n",
    "  coord_flip()+\n",
    "  theme(axis.text.x = element_text(angle = 90, hjust = 1))"
   ]
  },
  {
   "cell_type": "markdown",
   "metadata": {},
   "source": [
    "3. IR1 and IR2 signatures"
   ]
  },
  {
   "cell_type": "code",
   "execution_count": null,
   "metadata": {},
   "outputs": [],
   "source": [
    "# Import the list of genes from the signatures\n",
    "sig<-read.csv(\"/localhome/bs22tmhn/[ResearchProject]/IR1andIR2.csv\")"
   ]
  },
  {
   "cell_type": "markdown",
   "metadata": {},
   "source": [
    "- analysing the signature score"
   ]
  },
  {
   "cell_type": "code",
   "execution_count": null,
   "metadata": {},
   "outputs": [],
   "source": [
    "# retrieve the signature genes from ori_data \n",
    "genes<-colnames(ori_data)[colnames(ori_data) %in% sig$ensembl_gene_id]\n",
    "# retrieve the IR1 signature genes from ori_data \n",
    "IR1<-colnames(ori_data)[colnames(ori_data) %in% sig$ensembl_gene_id[sig$IR==1]]\n",
    "# retrieve the IR2 signature genes from ori_data \n",
    "IR2<-colnames(ori_data)[colnames(ori_data) %in% sig$ensembl_gene_id[sig$IR==2]]\n",
    "\n",
    "variables<-c(genes,\"OS_time\",\"status\",\"NHLDeath\")\n",
    "# retrieve the above variables from ori_data dataframe\n",
    "OS<-ori_data[,variables]\n",
    "\n",
    "OS<-OS[!is.na(OS$status),]           #remove samples without status information (applicable only to OS and PFS)\n",
    "OS$status[OS$NHLDeath==2]<-0         # convert status=1 of cases with NHLDeath=2 (non-NHLDeath) to status=0\n",
    "\n",
    "# calculate the mean of IR1 genes' readcounts for each row (sample)\n",
    "OS$IR1 <- rowMeans(OS[, colnames(OS) %in% IR1], na.rm = TRUE)\n",
    "# calculate the mean of IR2 genes' readcounts for each row (sample)\n",
    "OS$IR2 <- rowMeans(OS[, colnames(OS) %in% IR2], na.rm = TRUE)\n",
    "\n",
    "# calculate signature score for each row (sample)\n",
    "OS$score<- 2.71*OS$IR2 - 2.36*OS$IR1"
   ]
  },
  {
   "cell_type": "code",
   "execution_count": null,
   "metadata": {},
   "outputs": [],
   "source": [
    "# test for survival using dichotomised signature score split at median\n",
    "# split the data set into 2 groups using median as threshold\n",
    "med<-median(OS$score)\n",
    "# Group 1 below median, Group 2 above median\n",
    "OS$median <- ifelse(OS$score <= med, 1, 2)\n",
    "# perform Cox PH regression\n",
    "OS_50<-coxph(Surv(OS_time, status) ~ median, data = OS)\n",
    "\n",
    "\n",
    "# test for survival using dichotomised signature score split at the 25th percentile\n",
    "# split the data set into 2 groups using q25th as threshold\n",
    "q25th<- quantile(OS$score, probs = 0.25)\n",
    "# Group 1 below median, Group 2 above q25th\n",
    "OS$q25th <- ifelse(OS$score <= q25th, 1, 2)\n",
    "# perform Cox PH regression\n",
    "OS_25<-coxph(Surv(OS_time, status) ~ q25th, data = OS)\n",
    "\n",
    "\n",
    "# test for survival using dichotomised signature score split at the 75th percentile\n",
    "# split the data set into 2 groups using q75th as threshold\n",
    "q75th<-quantile(OS$score, probs = 0.75)\n",
    "# Group 1 below median, Group 2 above q75th\n",
    "OS$q75th <- ifelse(OS$score <= q75th, 1, 2)\n",
    "# perform Cox PH regression\n",
    "OS_75<-coxph(Surv(OS_time, status) ~ q75th, data = OS)"
   ]
  },
  {
   "cell_type": "markdown",
   "metadata": {},
   "source": [
    "- analyse each IR signature separately"
   ]
  },
  {
   "cell_type": "code",
   "execution_count": null,
   "metadata": {},
   "outputs": [],
   "source": [
    "# IR1\n",
    "\n",
    "# test for survival using dichotomised average reads split at median\n",
    "# split the data set into 2 groups using median as threshold\n",
    "med<-median(OS$IR1)\n",
    "# Group 1 below median, Group 2 above median\n",
    "OS$median_IR1 <- ifelse(OS$IR1 <= med, 1, 2)\n",
    "# perform Cox PH regression\n",
    "OS_50_IR1<-coxph(Surv(OS_time, status) ~ median_IR1, data = OS)\n",
    "\n",
    "\n",
    "# test for survival using dichotomised average reads split at the 25th percentile\n",
    "# split the data set into 2 groups using q25th as threshold\n",
    "q25th<-quantile(OS$IR1, probs = 0.25)\n",
    "# Group 1 below median, Group 2 above q25th\n",
    "OS$q25th_IR1 <- ifelse(OS$IR1 <= q25th, 1, 2)\n",
    "# perform Cox PH regression\n",
    "OS_25_IR1<-coxph(Surv(OS_time, status) ~ q25th_IR1, data = OS)\n",
    "\n",
    "\n",
    "# test for survival using dichotomised average reads split at the 75th percentile\n",
    "# split the data set into 2 groups using q75th as threshold\n",
    "q75th<-quantile(OS$IR1, probs = 0.75)\n",
    "# Group 1 below median, Group 2 above q75th\n",
    "OS$q75th_IR1 <- ifelse(OS$IR1 <= q75th, 1, 2)\n",
    "# perform Cox PH regression\n",
    "OS_75_IR1<-coxph(Surv(OS_time, status) ~ q75th_IR1, data = OS)"
   ]
  },
  {
   "cell_type": "code",
   "execution_count": null,
   "metadata": {},
   "outputs": [],
   "source": [
    "# IR2\n",
    "\n",
    "# test for survival using dichotomised average reads split at median\n",
    "# split the data set into 2 groups using median as threshold\n",
    "med<-median(OS$IR2)\n",
    "# Group 1 below median, Group 2 above median\n",
    "OS$median_IR2 <- ifelse(OS$IR2 <= med, 1, 2)\n",
    "# perform Cox PH regression\n",
    "OS_50_IR2<-coxph(Surv(OS_time, status) ~ median_IR2, data = OS)\n",
    "\n",
    "\n",
    "# test for survival using dichotomised average reads split at the 25th percentile\n",
    "# split the data set into 2 groups using q25th as threshold\n",
    "q25th<-quantile(OS$IR2, probs = 0.25)\n",
    "# Group 1 below median, Group 2 above q25th\n",
    "OS$q25th_IR2 <- ifelse(OS$IR2 <= q25th, 1, 2)\n",
    "# perform Cox PH regression\n",
    "OS_25_IR2<-coxph(Surv(OS_time, status) ~ q25th_IR2, data = OS)\n",
    "\n",
    "\n",
    "# test for survival using dichotomised average reads split at the 75th percentile\n",
    "# split the data set into 2 groups using q75th as threshold\n",
    "q75th<-quantile(OS$IR2, probs = 0.75)\n",
    "# Group 1 below median, Group 2 above q75th\n",
    "OS$q75th_IR2 <- ifelse(OS$IR2 <= q75th, 1, 2)\n",
    "# perform Cox PH regression\n",
    "OS_75_IR2<-coxph(Surv(OS_time, status) ~ q75th_IR2, data = OS)"
   ]
  }
 ],
 "metadata": {
  "kernelspec": {
   "display_name": "R [conda env:R-base]",
   "language": "R",
   "name": "conda-env-R-base-r"
  },
  "language_info": {
   "codemirror_mode": "r",
   "file_extension": ".r",
   "mimetype": "text/x-r-source",
   "name": "R",
   "pygments_lexer": "r",
   "version": "3.6.1"
  }
 },
 "nbformat": 4,
 "nbformat_minor": 4
}
