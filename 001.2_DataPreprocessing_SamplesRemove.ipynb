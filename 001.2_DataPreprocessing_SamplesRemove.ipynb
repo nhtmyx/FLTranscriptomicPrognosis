{
 "cells": [
  {
   "cell_type": "markdown",
   "metadata": {},
   "source": [
    "1. Import the filtered file containing clinical data and gene expression counts (example from batch 2)"
   ]
  },
  {
   "cell_type": "code",
   "execution_count": null,
   "metadata": {},
   "outputs": [],
   "source": [
    "ori_data<-read.csv(\"/localhome/bs22tmhn/[ResearchProject]/Batch2/survData_batch2.csv\",row.names = 1)"
   ]
  },
  {
   "cell_type": "markdown",
   "metadata": {},
   "source": [
    "2. Create an object containing only 4 housekeeping genes as columns and samples as rows (MRPS9, ACTB, GAPDH, PGK1)"
   ]
  },
  {
   "cell_type": "code",
   "execution_count": null,
   "metadata": {},
   "outputs": [],
   "source": [
    "hkgenes<-c(\"ENSG00000135972.9\",\"ENSG00000075624.17\",\"ENSG00000111640.15\",\"ENSG00000102144.15\")\n",
    "\n",
    "#create new df containing 4 genes as columns and samples as rows\n",
    "readcounts<-ori_data[, colnames(ori_data) %in% hkgenes]"
   ]
  },
  {
   "cell_type": "markdown",
   "metadata": {},
   "source": [
    "3. Plot histograms"
   ]
  },
  {
   "cell_type": "code",
   "execution_count": null,
   "metadata": {},
   "outputs": [],
   "source": [
    "par(mfrow=c(2,2))\n",
    "for (i in 1:4){\n",
    "  hist(readcounts[,i],breaks=20,xlab=colnames(readcounts)[i],main=NULL)\n",
    "}"
   ]
  },
  {
   "cell_type": "markdown",
   "metadata": {},
   "source": [
    "4. Set a lower limit cut off value for each gene:\n",
    " - ENSG00000135972.9 (MRPS9): 4\n",
    " - ENSG00000075624.17 (ACTB): 11\n",
    " - ENSG00000111640.15 (GAPDH): 7\n",
    " - ENSG00000102144.15 (PGK1): 5"
   ]
  },
  {
   "cell_type": "code",
   "execution_count": null,
   "metadata": {},
   "outputs": [],
   "source": [
    "removed<-rownames(readcounts)[readcounts$ENSG00000135972.9 < 4 | readcounts$ENSG00000075624.17 < 11 | readcounts$ENSG00000111640.15 < 7 | readcounts$ENSG00000102144.15 <5]\n",
    "\n",
    "ori_data<-ori_data[!(rownames(ori_data) %in% removed),]"
   ]
  },
  {
   "cell_type": "markdown",
   "metadata": {},
   "source": [
    "5. Remove samples without status"
   ]
  },
  {
   "cell_type": "code",
   "execution_count": null,
   "metadata": {},
   "outputs": [],
   "source": [
    "ori_data<-ori_data[!is.na(ori_data$status),]"
   ]
  },
  {
   "cell_type": "markdown",
   "metadata": {},
   "source": [
    "6. Export this data set"
   ]
  },
  {
   "cell_type": "code",
   "execution_count": null,
   "metadata": {},
   "outputs": [],
   "source": [
    "write.csv(ori_data,\"survData_batch2_samples_removed.csv\",row.names = TRUE)"
   ]
  }
 ],
 "metadata": {
  "kernelspec": {
   "display_name": "R [conda env:R-base]",
   "language": "R",
   "name": "conda-env-R-base-r"
  },
  "language_info": {
   "codemirror_mode": "r",
   "file_extension": ".r",
   "mimetype": "text/x-r-source",
   "name": "R",
   "pygments_lexer": "r",
   "version": "3.6.1"
  }
 },
 "nbformat": 4,
 "nbformat_minor": 4
}
