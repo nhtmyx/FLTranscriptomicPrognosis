{
 "cells": [
  {
   "cell_type": "markdown",
   "metadata": {},
   "source": [
    "*For demonstration, data from batch 1 is used*"
   ]
  },
  {
   "cell_type": "code",
   "execution_count": null,
   "metadata": {},
   "outputs": [],
   "source": [
    "library(survival)"
   ]
  },
  {
   "cell_type": "markdown",
   "metadata": {},
   "source": [
    "1. Import gene expression and clinical data"
   ]
  },
  {
   "cell_type": "code",
   "execution_count": null,
   "metadata": {},
   "outputs": [],
   "source": [
    "# import read count data \n",
    "ori_data<-read.csv(\"/localhome/bs22tmhn/[ResearchProject]/Batch1/survData_batch1.csv\",row.names = 1)\n",
    "\n",
    "# import clinical data\n",
    "clin<-read.csv(\"/localhome/bs22tmhn/[ResearchProject]/ClinData_batch1.csv\",row.names = 1)"
   ]
  },
  {
   "cell_type": "code",
   "execution_count": null,
   "metadata": {},
   "outputs": [],
   "source": [
    "# modify the ensembl ID names\n",
    "colnames(ori_data)<-sub(\"\\\\..*\", \"\",colnames(ori_data))"
   ]
  },
  {
   "cell_type": "markdown",
   "metadata": {},
   "source": [
    "2. Perform PH assumption test (Schoenfeld method)"
   ]
  },
  {
   "cell_type": "code",
   "execution_count": null,
   "metadata": {},
   "outputs": [],
   "source": [
    "#define a custom function to run PH assumption test\n",
    "custom_cox.zph<-function(gene_expression, event_time, event_status){\n",
    "  coxPH<-coxph(Surv(event_time, event_status) ~ gene_expression)\n",
    "  zph <- cox.zph(coxPH)\n",
    "  return(zph)\n",
    "}"
   ]
  },
  {
   "cell_type": "markdown",
   "metadata": {},
   "source": [
    "- OS"
   ]
  },
  {
   "cell_type": "code",
   "execution_count": null,
   "metadata": {},
   "outputs": [],
   "source": [
    "#import candidate prognostic genes (50 genes in total)\n",
    "candidates<-read.csv(\"/localhome/bs22tmhn/[ResearchProject]/candidate_genes_OS.csv\")\n",
    "genes<-array(candidates$Variable)\n",
    "\n",
    "#extract 10 random gene names from the candidate genes\n",
    "set.seed(123)\n",
    "genes_10<-sample(as.vector(genes),size=10)\n",
    "\n",
    "# select those 10 genes from the ori_data\n",
    "reads<-ori_data[!is.na(ori_data$status),colnames(ori_data) %in% genes_10]\n",
    "\n",
    "#combine with clinical data\n",
    "clinOS<-clin[!is.na(clin$status),]\n",
    "surv<-cbind(reads,data.frame(OS_time=clinOS[,c('OS_time')],status=clinOS[,c('status')]))\n",
    "\n",
    "#run PH assumption test\n",
    "zph<-apply(surv[,1:10], MARGIN=2, custom_cox.zph, event_time = surv$OS_time, event_status = surv$status)"
   ]
  },
  {
   "cell_type": "code",
   "execution_count": null,
   "metadata": {},
   "outputs": [],
   "source": [
    "# draw a schoenfeld plot (e.g. for a gene with EnsemblID ENSG00000197912)\n",
    "plot(zph$ENSG00000197912,ylab=\"Beta(t)\")\n",
    "title(main=\"ENSG00000197912\",adj=0)"
   ]
  },
  {
   "cell_type": "markdown",
   "metadata": {},
   "source": [
    "- TTT"
   ]
  },
  {
   "cell_type": "code",
   "execution_count": null,
   "metadata": {},
   "outputs": [],
   "source": [
    "#import candidate genes \n",
    "candidates<-read.csv(\"/localhome/bs22tmhn/[ResearchProject]/candidate_genes_TTT.csv\")\n",
    "genes<-array(candidates$Variable)\n",
    "\n",
    "#extract 10 random gene names from the candidate genes\n",
    "set.seed(123)\n",
    "genes_10<-sample(as.vector(genes),size=10)\n",
    "\n",
    "# select those 10 genes from the ori_data\n",
    "reads<-ori_data[,colnames(ori_data) %in% genes_10]\n",
    "\n",
    "#combine with clinical data\n",
    "surv<-cbind(reads,data.frame(trans_time=clin[,c('trans_time')],trans=clin[,c('trans')]))\n",
    "\n",
    "#run PH assumption test\n",
    "zph<-apply(surv[,1:10], MARGIN=2, custom_cox.zph, event_time = surv$trans_time, event_status = surv$trans)"
   ]
  },
  {
   "cell_type": "code",
   "execution_count": null,
   "metadata": {},
   "outputs": [],
   "source": [
    "# draw a schoenfeld plot (e.g. for a gene with EnsemblID ENSG00000235703)\n",
    "plot(zph$ENSG00000235703,ylab=\"Beta(t)\")\n",
    "title(main=\"ENSG00000235703\",adj=0)"
   ]
  },
  {
   "cell_type": "markdown",
   "metadata": {},
   "source": [
    "- PFS"
   ]
  },
  {
   "cell_type": "code",
   "execution_count": null,
   "metadata": {},
   "outputs": [],
   "source": [
    "#import candidate genes \n",
    "candidates<-read.csv(\"/localhome/bs22tmhn/[ResearchProject]/candidate_genes_PFS.csv\")\n",
    "genes<-array(candidates$Variable)\n",
    "\n",
    "#extract 10 random gene names from the candidate genes\n",
    "set.seed(123)\n",
    "genes_10<-sample(as.vector(genes),size=10)\n",
    "\n",
    "# select those 10 genes from the ori_data\n",
    "reads<-ori_data[!is.na(ori_data$status),colnames(ori_data) %in% genes_10]\n",
    "\n",
    "#combine with clinical data\n",
    "surv<-cbind(reads,data.frame(prog_time=clinOS[,c('prog_time')],progressed=clinOS[,c('progressed')]))\n",
    "\n",
    "#run PH assumption test\n",
    "zph<-apply(surv[,1:10], MARGIN=2, custom_cox.zph, event_time = surv$prog_time, event_status = surv$progressed)"
   ]
  },
  {
   "cell_type": "code",
   "execution_count": null,
   "metadata": {},
   "outputs": [],
   "source": [
    "# draw a schoenfeld plot (e.g. for a gene with EnsemblID ENSG00000141447)\n",
    "plot(zph$ENSG00000141447,ylab=\"Beta(t)\")\n",
    "title(main=\"ENSG00000141447\",adj=0)"
   ]
  }
 ],
 "metadata": {
  "kernelspec": {
   "display_name": "R [conda env:R-base]",
   "language": "R",
   "name": "conda-env-R-base-r"
  },
  "language_info": {
   "codemirror_mode": "r",
   "file_extension": ".r",
   "mimetype": "text/x-r-source",
   "name": "R",
   "pygments_lexer": "r",
   "version": "3.6.1"
  }
 },
 "nbformat": 4,
 "nbformat_minor": 4
}
