{
 "cells": [
  {
   "cell_type": "markdown",
   "metadata": {},
   "source": [
    "*The model was constructed for OS event as an example*"
   ]
  },
  {
   "cell_type": "markdown",
   "metadata": {},
   "source": [
    "1. Import necessary files "
   ]
  },
  {
   "cell_type": "code",
   "execution_count": null,
   "metadata": {},
   "outputs": [],
   "source": [
    "# import original data in batch 1\n",
    "ori_data<-read.csv(\"/localhome/bs22tmhn/[ResearchProject]/Batch1/survData_batch1.csv\",row.names = 1)\n",
    "# modify the EnsemblID\n",
    "colnames(ori_data)<-sub(\"\\\\..*\", \"\",colnames(ori_data))\n",
    "\n",
    "# Import the list of candidate genes in batch 1\n",
    "candidate_genes<-read.csv(\"/localhome/bs22tmhn/[ResearchProject]/candidate_genes_OS.csv\",row.names = 1)"
   ]
  },
  {
   "cell_type": "markdown",
   "metadata": {},
   "source": [
    "2. Select top 25 candidate protein coding genes ranked by abs_beta_coxcont "
   ]
  },
  {
   "cell_type": "code",
   "execution_count": null,
   "metadata": {},
   "outputs": [],
   "source": [
    "top25_pcg <- subset(candidate_genes, gene_biotype_cox50 == \"protein_coding\")\n",
    "top25_pcg <- top25_pcg[order(top25_pcg$abs_beta_coxcont, decreasing = TRUE), ]\n",
    "top25_pcg <- top25_pcg$Variable[1:25]\n",
    "\n",
    "top25_pcg_reads<-ori_data[!is.na(ori_data$status),colnames(ori_data) %in% top25_pcg]"
   ]
  },
  {
   "cell_type": "markdown",
   "metadata": {},
   "source": [
    "3. Remove genes with high correlation with others in top 25 candidate protein coding genes"
   ]
  },
  {
   "cell_type": "code",
   "execution_count": null,
   "metadata": {},
   "outputs": [],
   "source": [
    "# Calculate the correlation coefficient of each pair of genes in top25_pcg_reads\n",
    "top25_pcg_reads_cor <- cor(top25_pcg_reads)      # a correlation matrix\n",
    "\n",
    "# identify pairs of genes with high correlation (>0.75):\n",
    "# retrieve the location indices of gene pairs with high correlation (>0.75) in the matrix\n",
    "highcor<-which(abs(top25_pcg_reads_cor) > 0.75 & top25_pcg_reads_cor!=1 & upper.tri(top25_pcg_reads_cor), arr.ind = TRUE)   \n",
    "# get EnsemblID (variables) from the correlation matrix\n",
    "varnames <- colnames(top25_pcg_reads_cor)\n",
    "\n",
    "# create a data frame of gene pairs with high correlation\n",
    "result <- data.frame(var1 = varnames[highcor[,1]],\n",
    "                     var2 = varnames[highcor[,2]])"
   ]
  },
  {
   "cell_type": "markdown",
   "metadata": {},
   "source": [
    "Overall, there are 15 pairs of 10 genes with high correlation. Among these 10 genes, 8 will be removed and only ENSG00000148677 and ENSG00000008056 are kept, because they are the smallest number of genes not highly correlated with each other, and each of them is directly correlated with the 4 different remaining genes."
   ]
  },
  {
   "cell_type": "code",
   "execution_count": null,
   "metadata": {},
   "outputs": [],
   "source": [
    "#remove gene\n",
    "removed<-unlist(result)[!(unlist(result)==\"ENSG00000148677\"|unlist(result)==\"ENSG00000008056\")]  # exclude ENSG00000148677 and ENSG00000008056 from the \"removed\" list containing genes to be removed\n",
    "removed<-array(removed[!duplicated(removed)])  \n",
    "\n",
    "top25_pcg_reads<-top25_pcg_reads[,!colnames(top25_pcg_reads) %in% removed]     #remove the 8 genes in the \"removed\" array, 17 genes remained to build the model"
   ]
  },
  {
   "cell_type": "code",
   "execution_count": null,
   "metadata": {},
   "outputs": [],
   "source": [
    "# create a data frame containing the selected genes and essential clinical data\n",
    "surv<-cbind(top25_pcg_reads, ori_data[!is.na(ori_data$status),c(\"OS_time\",\"status\",\"NHLDeath\")])\n",
    "surv$status<-ifelse(surv$NHLDeath==1 & !is.na(surv$NHLDeath),1,0)\n",
    "surv<-surv(,-ncol(surv))   # remove the last column (NHLDeath) of surv"
   ]
  },
  {
   "cell_type": "markdown",
   "metadata": {},
   "source": [
    "4. Test for multicollinearity in the remaining genes"
   ]
  },
  {
   "cell_type": "code",
   "execution_count": null,
   "metadata": {},
   "outputs": [],
   "source": [
    "pretend.lm<-lm(OS_time~ .,data=surv[,1:18])  # surv[,1:18] contains 17 genes and OS_time\n",
    "car::vif(pretend.lm)"
   ]
  },
  {
   "cell_type": "markdown",
   "metadata": {},
   "source": [
    "Based on the output of *car::vif(pretend.lm)*, there are many genes having VIF > 2.5, suggesting the presence of multicollinearity in this set of genes. Thus, Ridge penalised Cox regression is used to mitigate this problem in model construction."
   ]
  },
  {
   "cell_type": "markdown",
   "metadata": {},
   "source": [
    "5. Model construction using L2 (Ridge) Cox regression"
   ]
  },
  {
   "cell_type": "code",
   "execution_count": null,
   "metadata": {},
   "outputs": [],
   "source": [
    "library(penalized)\n",
    "library(survival)"
   ]
  },
  {
   "cell_type": "code",
   "execution_count": null,
   "metadata": {},
   "outputs": [],
   "source": [
    "# perform 10 fold cross validation to find the optimised lambda\n",
    "set.seed(123)\n",
    "opt2<-optL2(Surv(OS_time, status) ~ . , data=surv,fold=10)\n",
    "\n",
    "# fit Cox PH model to the data with optimised L2 lambda=0.19\n",
    "fit2<-penalized(Surv(OS_time, status) ~ . , data=surv,lambda2=0.19)\n",
    "\n",
    "# store the penalised coefficient estimates \n",
    "coef2<-coefficients(fit2)"
   ]
  },
  {
   "cell_type": "markdown",
   "metadata": {},
   "source": [
    "6. Using the coefficients, compute the signature score for each sample and split the samples into high- and low-score groups at the median score"
   ]
  },
  {
   "cell_type": "code",
   "execution_count": null,
   "metadata": {},
   "outputs": [],
   "source": [
    "# calculate the signature by multiplying the gene expression values to their corresponding coefficients in each sample\n",
    "surv$score2<-as.matrix(surv[,c(1:17)]) %*% as.matrix(coef2)\n",
    "surv$score2<-surv$score2[,1]\n",
    "\n",
    "# split the data set into 2 groups using median as threshold\n",
    "med2<-median(surv$score2)\n",
    "# Group 1 below median, Group 2 above median\n",
    "surv$median2 <- ifelse(surv$score2 <= med2, 1, 2)\n",
    "\n",
    "# run Cox PH to estimate HR of the high- and low-score groups split at median\n",
    "L2_bin<-coxph(Surv(OS_time,status)~median2,data=surv)"
   ]
  },
  {
   "cell_type": "markdown",
   "metadata": {},
   "source": [
    "7. Estimate the average 10-year OS rate of two groups of patients (in batch 1) classified by the model"
   ]
  },
  {
   "cell_type": "code",
   "execution_count": null,
   "metadata": {},
   "outputs": [],
   "source": [
    "# fit the model\n",
    "L2<-coxph(Surv(OS_time,status)~score2,data=surv)\n",
    "\n",
    "# Predict the survival probability of each sample at 10 years\n",
    "surv_test<-data.frame(score2=surv$score2)\n",
    "surv_test$status<-1\n",
    "surv_test$OS_time<-10\n",
    "pred <- predict(L2, newdata = surv_test, type = \"expected\", se.fit = T)    # Predict the expected number of events at 10 years\n",
    "# Calculate the survival probability\n",
    "sprob <- exp(-pred$fit)\n",
    "# append the survival probability to \"surv\" dataframe\n",
    "surv$prob10<-sprob\n",
    "\n",
    "# calculate the average 10-year OS rate of high-score group\n",
    "mean(surv$prob10[surv$median2 == 2])\n",
    "# calculate the average 10-year OS rate of low-score group\n",
    "mean(surv$prob10[surv$median2 == 1])"
   ]
  }
 ],
 "metadata": {
  "kernelspec": {
   "display_name": "R [conda env:R-base]",
   "language": "R",
   "name": "conda-env-R-base-r"
  },
  "language_info": {
   "codemirror_mode": "r",
   "file_extension": ".r",
   "mimetype": "text/x-r-source",
   "name": "R",
   "pygments_lexer": "r",
   "version": "3.6.1"
  }
 },
 "nbformat": 4,
 "nbformat_minor": 4
}
